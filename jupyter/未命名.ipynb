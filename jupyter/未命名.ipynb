{
 "cells": [
  {
   "cell_type": "code",
   "execution_count": 1,
   "id": "0a91d6a6",
   "metadata": {},
   "outputs": [],
   "source": [
    "from enum import Enum, unique"
   ]
  },
  {
   "cell_type": "code",
   "execution_count": 5,
   "id": "745a3d6f",
   "metadata": {},
   "outputs": [],
   "source": [
    "@unique\n",
    "class Candlesticks(Enum):\n",
    "    MIN1 = \"1\"\n",
    "    MIN5 = \"5\""
   ]
  },
  {
   "cell_type": "code",
   "execution_count": 6,
   "id": "259473a6",
   "metadata": {},
   "outputs": [
    {
     "data": {
      "text/plain": [
       "<Candlesticks.MIN1: '1'>"
      ]
     },
     "execution_count": 6,
     "metadata": {},
     "output_type": "execute_result"
    }
   ],
   "source": [
    "Candlesticks.MIN1"
   ]
  },
  {
   "cell_type": "code",
   "execution_count": 7,
   "id": "3e211e34",
   "metadata": {},
   "outputs": [],
   "source": [
    "import attr\n",
    "from attr.validators import deep_iterable, instance_of, in_"
   ]
  },
  {
   "cell_type": "code",
   "execution_count": 10,
   "id": "cb06038a",
   "metadata": {},
   "outputs": [],
   "source": [
    "@attr.s\n",
    "class ResultData:\n",
    "    rider_id = attr.ib(type=int, validator=instance_of(int))\n",
    "    shop_id = attr.ib(type=int, validator=in_([5, 9]))"
   ]
  },
  {
   "cell_type": "code",
   "execution_count": 12,
   "id": "d04d3a4a",
   "metadata": {},
   "outputs": [
    {
     "ename": "ValueError",
     "evalue": "'shop_id' must be in [5, 9] (got 8)",
     "output_type": "error",
     "traceback": [
      "\u001b[0;31m---------------------------------------------------------------------------\u001b[0m",
      "\u001b[0;31mValueError\u001b[0m                                Traceback (most recent call last)",
      "\u001b[0;32m<ipython-input-12-a293f40e8b4b>\u001b[0m in \u001b[0;36m<module>\u001b[0;34m\u001b[0m\n\u001b[0;32m----> 1\u001b[0;31m \u001b[0maa\u001b[0m \u001b[0;34m=\u001b[0m \u001b[0mResultData\u001b[0m\u001b[0;34m(\u001b[0m\u001b[0mrider_id\u001b[0m\u001b[0;34m=\u001b[0m\u001b[0;36m34\u001b[0m\u001b[0;34m,\u001b[0m \u001b[0mshop_id\u001b[0m\u001b[0;34m=\u001b[0m\u001b[0;36m8\u001b[0m\u001b[0;34m)\u001b[0m\u001b[0;34m\u001b[0m\u001b[0;34m\u001b[0m\u001b[0m\n\u001b[0m",
      "\u001b[0;32m<attrs generated init __main__.ResultData-2>\u001b[0m in \u001b[0;36m__init__\u001b[0;34m(self, rider_id, shop_id)\u001b[0m\n\u001b[1;32m      4\u001b[0m     \u001b[0;32mif\u001b[0m \u001b[0m_config\u001b[0m\u001b[0;34m.\u001b[0m\u001b[0m_run_validators\u001b[0m \u001b[0;32mis\u001b[0m \u001b[0;32mTrue\u001b[0m\u001b[0;34m:\u001b[0m\u001b[0;34m\u001b[0m\u001b[0;34m\u001b[0m\u001b[0m\n\u001b[1;32m      5\u001b[0m         \u001b[0m__attr_validator_rider_id\u001b[0m\u001b[0;34m(\u001b[0m\u001b[0mself\u001b[0m\u001b[0;34m,\u001b[0m \u001b[0m__attr_rider_id\u001b[0m\u001b[0;34m,\u001b[0m \u001b[0mself\u001b[0m\u001b[0;34m.\u001b[0m\u001b[0mrider_id\u001b[0m\u001b[0;34m)\u001b[0m\u001b[0;34m\u001b[0m\u001b[0;34m\u001b[0m\u001b[0m\n\u001b[0;32m----> 6\u001b[0;31m         \u001b[0m__attr_validator_shop_id\u001b[0m\u001b[0;34m(\u001b[0m\u001b[0mself\u001b[0m\u001b[0;34m,\u001b[0m \u001b[0m__attr_shop_id\u001b[0m\u001b[0;34m,\u001b[0m \u001b[0mself\u001b[0m\u001b[0;34m.\u001b[0m\u001b[0mshop_id\u001b[0m\u001b[0;34m)\u001b[0m\u001b[0;34m\u001b[0m\u001b[0;34m\u001b[0m\u001b[0m\n\u001b[0m",
      "\u001b[0;32m~/opt/anaconda3/lib/python3.8/site-packages/attr/validators.py\u001b[0m in \u001b[0;36m__call__\u001b[0;34m(self, inst, attr, value)\u001b[0m\n\u001b[1;32m    227\u001b[0m \u001b[0;34m\u001b[0m\u001b[0m\n\u001b[1;32m    228\u001b[0m         \u001b[0;32mif\u001b[0m \u001b[0;32mnot\u001b[0m \u001b[0min_options\u001b[0m\u001b[0;34m:\u001b[0m\u001b[0;34m\u001b[0m\u001b[0;34m\u001b[0m\u001b[0m\n\u001b[0;32m--> 229\u001b[0;31m             raise ValueError(\n\u001b[0m\u001b[1;32m    230\u001b[0m                 \"'{name}' must be in {options!r} (got {value!r})\".format(\n\u001b[1;32m    231\u001b[0m                     \u001b[0mname\u001b[0m\u001b[0;34m=\u001b[0m\u001b[0mattr\u001b[0m\u001b[0;34m.\u001b[0m\u001b[0mname\u001b[0m\u001b[0;34m,\u001b[0m \u001b[0moptions\u001b[0m\u001b[0;34m=\u001b[0m\u001b[0mself\u001b[0m\u001b[0;34m.\u001b[0m\u001b[0moptions\u001b[0m\u001b[0;34m,\u001b[0m \u001b[0mvalue\u001b[0m\u001b[0;34m=\u001b[0m\u001b[0mvalue\u001b[0m\u001b[0;34m\u001b[0m\u001b[0;34m\u001b[0m\u001b[0m\n",
      "\u001b[0;31mValueError\u001b[0m: 'shop_id' must be in [5, 9] (got 8)"
     ]
    }
   ],
   "source": [
    "aa = ResultData(rider_id=34, shop_id=8)"
   ]
  },
  {
   "cell_type": "code",
   "execution_count": null,
   "id": "2489e71e",
   "metadata": {},
   "outputs": [],
   "source": []
  }
 ],
 "metadata": {
  "kernelspec": {
   "display_name": "Python 3",
   "language": "python",
   "name": "python3"
  },
  "language_info": {
   "codemirror_mode": {
    "name": "ipython",
    "version": 3
   },
   "file_extension": ".py",
   "mimetype": "text/x-python",
   "name": "python",
   "nbconvert_exporter": "python",
   "pygments_lexer": "ipython3",
   "version": "3.8.8"
  }
 },
 "nbformat": 4,
 "nbformat_minor": 5
}
