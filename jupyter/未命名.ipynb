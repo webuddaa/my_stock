{
 "cells": [
  {
   "cell_type": "code",
   "execution_count": 6,
   "id": "2489e71e",
   "metadata": {},
   "outputs": [],
   "source": [
    "import requests\n",
    "import pandas as pd\n",
    "import json"
   ]
  },
  {
   "cell_type": "code",
   "execution_count": 145,
   "id": "a58c32ce",
   "metadata": {},
   "outputs": [],
   "source": [
    "import attr\n",
    "from typing import List, Tuple\n"
   ]
  },
  {
   "cell_type": "code",
   "execution_count": 155,
   "id": "37d5c22c",
   "metadata": {},
   "outputs": [],
   "source": [
    "# @attr.s(on_setattr=attr.setters.validate)\n",
    "@attr.s\n",
    "class Student:\n",
    "    name = attr.ib(type=str)\n",
    "    age = attr.ib(type=int)\n",
    "    height = attr.ib(type=List[int])\n",
    "    "
   ]
  },
  {
   "cell_type": "code",
   "execution_count": 163,
   "id": "bf61d140",
   "metadata": {},
   "outputs": [],
   "source": [
    "aa = {\"name\": \"frank\", \"age\": 45, \"height\": [67], \"cc\": 543737}"
   ]
  },
  {
   "cell_type": "code",
   "execution_count": 159,
   "id": "49dca2a3",
   "metadata": {},
   "outputs": [],
   "source": [
    "s2 = structure(aa, Student)"
   ]
  },
  {
   "cell_type": "code",
   "execution_count": 161,
   "id": "a8ca4160",
   "metadata": {},
   "outputs": [
    {
     "data": {
      "text/plain": [
       "Student(name='frank', age=45, height=[67])"
      ]
     },
     "execution_count": 161,
     "metadata": {},
     "output_type": "execute_result"
    }
   ],
   "source": [
    "s2"
   ]
  },
  {
   "cell_type": "code",
   "execution_count": 162,
   "id": "42611512",
   "metadata": {},
   "outputs": [
    {
     "data": {
      "text/plain": [
       "{'name': 'frank', 'age': 45, 'height': [67]}"
      ]
     },
     "execution_count": 162,
     "metadata": {},
     "output_type": "execute_result"
    }
   ],
   "source": [
    "unstructure(s2)"
   ]
  },
  {
   "cell_type": "code",
   "execution_count": null,
   "id": "a36d2e9f",
   "metadata": {},
   "outputs": [],
   "source": []
  },
  {
   "cell_type": "code",
   "execution_count": 128,
   "id": "5810bf48",
   "metadata": {},
   "outputs": [],
   "source": [
    "from cattr import unstructure, structure"
   ]
  },
  {
   "cell_type": "code",
   "execution_count": 165,
   "id": "70ae60d8",
   "metadata": {},
   "outputs": [],
   "source": [
    "s1 = structure(aa, Student)"
   ]
  },
  {
   "cell_type": "code",
   "execution_count": 164,
   "id": "ff39bf0e",
   "metadata": {},
   "outputs": [
    {
     "ename": "TypeError",
     "evalue": "__init__() got an unexpected keyword argument 'cc'",
     "output_type": "error",
     "traceback": [
      "\u001b[0;31m---------------------------------------------------------------------------\u001b[0m",
      "\u001b[0;31mTypeError\u001b[0m                                 Traceback (most recent call last)",
      "\u001b[0;32m<ipython-input-164-099ea6970eb9>\u001b[0m in \u001b[0;36m<module>\u001b[0;34m\u001b[0m\n\u001b[0;32m----> 1\u001b[0;31m \u001b[0ms1\u001b[0m \u001b[0;34m=\u001b[0m \u001b[0mStudent\u001b[0m\u001b[0;34m(\u001b[0m\u001b[0;34m**\u001b[0m\u001b[0maa\u001b[0m\u001b[0;34m)\u001b[0m\u001b[0;34m\u001b[0m\u001b[0;34m\u001b[0m\u001b[0m\n\u001b[0m",
      "\u001b[0;31mTypeError\u001b[0m: __init__() got an unexpected keyword argument 'cc'"
     ]
    }
   ],
   "source": [
    "s1 = Student(**aa)"
   ]
  },
  {
   "cell_type": "code",
   "execution_count": 166,
   "id": "31bb0b46",
   "metadata": {},
   "outputs": [
    {
     "data": {
      "text/plain": [
       "Student(name='frank', age=45, height=[67])"
      ]
     },
     "execution_count": 166,
     "metadata": {},
     "output_type": "execute_result"
    }
   ],
   "source": [
    "s1"
   ]
  },
  {
   "cell_type": "code",
   "execution_count": 142,
   "id": "5568ebe7",
   "metadata": {},
   "outputs": [],
   "source": [
    "aa = unstructure(s)"
   ]
  },
  {
   "cell_type": "code",
   "execution_count": 143,
   "id": "fdab8d44",
   "metadata": {},
   "outputs": [
    {
     "data": {
      "text/plain": [
       "dict"
      ]
     },
     "execution_count": 143,
     "metadata": {},
     "output_type": "execute_result"
    }
   ],
   "source": [
    "type(aa)"
   ]
  },
  {
   "cell_type": "code",
   "execution_count": 144,
   "id": "54bfac4e",
   "metadata": {},
   "outputs": [
    {
     "data": {
      "text/plain": [
       "{'name': 'frnak', 'age': 34, 'height': [2, 3, 4, 5]}"
      ]
     },
     "execution_count": 144,
     "metadata": {},
     "output_type": "execute_result"
    }
   ],
   "source": [
    "aa"
   ]
  },
  {
   "cell_type": "code",
   "execution_count": 146,
   "id": "9a829a99",
   "metadata": {},
   "outputs": [
    {
     "data": {
      "text/plain": [
       "('1.0', 2, 3)"
      ]
     },
     "execution_count": 146,
     "metadata": {},
     "output_type": "execute_result"
    }
   ],
   "source": [
    "structure([1.0, 2, \"3\"], Tuple[str, int, int])"
   ]
  },
  {
   "cell_type": "code",
   "execution_count": 167,
   "id": "22fe11e0",
   "metadata": {},
   "outputs": [],
   "source": [
    "from pathlib import Path\n",
    "\n",
    "now_path = Path.cwd()\n",
    "home_path = Path.home()"
   ]
  },
  {
   "cell_type": "code",
   "execution_count": 179,
   "id": "bbaf1405",
   "metadata": {},
   "outputs": [
    {
     "data": {
      "text/plain": [
       "PosixPath('/Users/xiangfeng/PycharmProjects/my_stock')"
      ]
     },
     "execution_count": 179,
     "metadata": {},
     "output_type": "execute_result"
    }
   ],
   "source": [
    "now_path.parent"
   ]
  },
  {
   "cell_type": "code",
   "execution_count": 177,
   "id": "a3335ffd",
   "metadata": {},
   "outputs": [
    {
     "data": {
      "text/plain": [
       "PosixPath('/Users/xiangfeng')"
      ]
     },
     "execution_count": 177,
     "metadata": {},
     "output_type": "execute_result"
    }
   ],
   "source": [
    "home_path"
   ]
  },
  {
   "cell_type": "code",
   "execution_count": 180,
   "id": "700dbf1b",
   "metadata": {},
   "outputs": [
    {
     "data": {
      "text/plain": [
       "PosixPath('/Users/xiangfeng/PycharmProjects/my_stock/jupyter')"
      ]
     },
     "execution_count": 180,
     "metadata": {},
     "output_type": "execute_result"
    }
   ],
   "source": [
    "now_path\n"
   ]
  },
  {
   "cell_type": "code",
   "execution_count": null,
   "id": "2cf519b6",
   "metadata": {},
   "outputs": [],
   "source": []
  }
 ],
 "metadata": {
  "kernelspec": {
   "display_name": "Python 3",
   "language": "python",
   "name": "python3"
  },
  "language_info": {
   "codemirror_mode": {
    "name": "ipython",
    "version": 3
   },
   "file_extension": ".py",
   "mimetype": "text/x-python",
   "name": "python",
   "nbconvert_exporter": "python",
   "pygments_lexer": "ipython3",
   "version": "3.8.8"
  }
 },
 "nbformat": 4,
 "nbformat_minor": 5
}
