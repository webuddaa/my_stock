{
 "cells": [
  {
   "cell_type": "code",
   "execution_count": 1,
   "id": "2489e71e",
   "metadata": {},
   "outputs": [],
   "source": [
    "import requests\n",
    "import pandas as pd\n",
    "import json\n",
    "import attr\n",
    "from cattr import unstructure, structure\n",
    "from typing import List, Tuple\n"
   ]
  },
  {
   "cell_type": "code",
   "execution_count": 2,
   "id": "b83ffd38",
   "metadata": {},
   "outputs": [],
   "source": [
    "aa = [1,2,3,4,5,6,7,8]"
   ]
  },
  {
   "cell_type": "code",
   "execution_count": 3,
   "id": "42ce7d9d",
   "metadata": {},
   "outputs": [],
   "source": [
    "a1, *bb, a2 = aa"
   ]
  },
  {
   "cell_type": "code",
   "execution_count": 4,
   "id": "2db5c469",
   "metadata": {},
   "outputs": [
    {
     "data": {
      "text/plain": [
       "1"
      ]
     },
     "execution_count": 4,
     "metadata": {},
     "output_type": "execute_result"
    }
   ],
   "source": [
    "a1"
   ]
  },
  {
   "cell_type": "code",
   "execution_count": 5,
   "id": "6bccc775",
   "metadata": {},
   "outputs": [
    {
     "data": {
      "text/plain": [
       "8"
      ]
     },
     "execution_count": 5,
     "metadata": {},
     "output_type": "execute_result"
    }
   ],
   "source": [
    "a2"
   ]
  },
  {
   "cell_type": "code",
   "execution_count": 6,
   "id": "c36923fe",
   "metadata": {},
   "outputs": [
    {
     "data": {
      "text/plain": [
       "[2, 3, 4, 5, 6, 7]"
      ]
     },
     "execution_count": 6,
     "metadata": {},
     "output_type": "execute_result"
    }
   ],
   "source": [
    "bb"
   ]
  },
  {
   "cell_type": "code",
   "execution_count": 7,
   "id": "b363c867",
   "metadata": {},
   "outputs": [],
   "source": [
    "record = ('ACME', 50, 123.45, (12, 18, 2012))"
   ]
  },
  {
   "cell_type": "code",
   "execution_count": 8,
   "id": "bbc9af83",
   "metadata": {},
   "outputs": [],
   "source": [
    "name, *_, (*_, year) = record"
   ]
  },
  {
   "cell_type": "code",
   "execution_count": 9,
   "id": "53dbdc7d",
   "metadata": {},
   "outputs": [
    {
     "data": {
      "text/plain": [
       "[12, 18]"
      ]
     },
     "execution_count": 9,
     "metadata": {},
     "output_type": "execute_result"
    }
   ],
   "source": [
    "_"
   ]
  },
  {
   "cell_type": "code",
   "execution_count": 10,
   "id": "d38fa151",
   "metadata": {},
   "outputs": [],
   "source": [
    "from collections import defaultdict"
   ]
  },
  {
   "cell_type": "code",
   "execution_count": 11,
   "id": "81ac4967",
   "metadata": {},
   "outputs": [],
   "source": [
    "dic = defaultdict(list)"
   ]
  },
  {
   "cell_type": "code",
   "execution_count": 12,
   "id": "e2f2ce9d",
   "metadata": {},
   "outputs": [],
   "source": [
    "aa = [(1, 87), (1, 67), (2, 56), (5, 98)]"
   ]
  },
  {
   "cell_type": "code",
   "execution_count": 13,
   "id": "ee2c9af1",
   "metadata": {},
   "outputs": [],
   "source": [
    "for k, v in aa:\n",
    "    dic[k].append(v)"
   ]
  },
  {
   "cell_type": "code",
   "execution_count": 16,
   "id": "0c095a49",
   "metadata": {},
   "outputs": [
    {
     "data": {
      "text/plain": [
       "[87, 67]"
      ]
     },
     "execution_count": 16,
     "metadata": {},
     "output_type": "execute_result"
    }
   ],
   "source": [
    "dic.get(1)"
   ]
  },
  {
   "cell_type": "code",
   "execution_count": 15,
   "id": "535ce5d4",
   "metadata": {},
   "outputs": [
    {
     "data": {
      "text/plain": [
       "[87, 67]"
      ]
     },
     "execution_count": 15,
     "metadata": {},
     "output_type": "execute_result"
    }
   ],
   "source": [
    "dic[1]"
   ]
  },
  {
   "cell_type": "code",
   "execution_count": null,
   "id": "ff874671",
   "metadata": {},
   "outputs": [],
   "source": []
  }
 ],
 "metadata": {
  "kernelspec": {
   "display_name": "Python 3",
   "language": "python",
   "name": "python3"
  },
  "language_info": {
   "codemirror_mode": {
    "name": "ipython",
    "version": 3
   },
   "file_extension": ".py",
   "mimetype": "text/x-python",
   "name": "python",
   "nbconvert_exporter": "python",
   "pygments_lexer": "ipython3",
   "version": "3.8.8"
  }
 },
 "nbformat": 4,
 "nbformat_minor": 5
}
