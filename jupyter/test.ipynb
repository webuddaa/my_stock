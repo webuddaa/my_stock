{
 "cells": [
  {
   "cell_type": "code",
   "execution_count": 1,
   "id": "7ac6e91e",
   "metadata": {},
   "outputs": [],
   "source": [
    "import pandas as pd\n",
    "import numpy as np\n",
    "import jqdatasdk as jq"
   ]
  },
  {
   "cell_type": "code",
   "execution_count": 2,
   "id": "b758b8f2",
   "metadata": {},
   "outputs": [
    {
     "name": "stdout",
     "output_type": "stream",
     "text": [
      "auth success \n"
     ]
    }
   ],
   "source": [
    "jq.auth(\"15011559175\", \"Zengrongjun19\")"
   ]
  },
  {
   "cell_type": "code",
   "execution_count": 3,
   "id": "7984eeb8",
   "metadata": {},
   "outputs": [
    {
     "data": {
      "text/plain": [
       "True"
      ]
     },
     "execution_count": 3,
     "metadata": {},
     "output_type": "execute_result"
    }
   ],
   "source": [
    "jq.is_auth()"
   ]
  },
  {
   "cell_type": "code",
   "execution_count": 21,
   "id": "9fa4defb",
   "metadata": {},
   "outputs": [
    {
     "data": {
      "text/plain": [
       "{'total': 1000000, 'spare': 643704}"
      ]
     },
     "execution_count": 21,
     "metadata": {},
     "output_type": "execute_result"
    }
   ],
   "source": [
    "jq.get_query_count()"
   ]
  },
  {
   "cell_type": "code",
   "execution_count": 17,
   "id": "0e8b6777",
   "metadata": {},
   "outputs": [],
   "source": [
    "dd = pd.read_csv(\"../data/000001.XSHG_60m_sticks.csv\")"
   ]
  },
  {
   "cell_type": "code",
   "execution_count": 18,
   "id": "4ee05fae",
   "metadata": {},
   "outputs": [
    {
     "data": {
      "text/plain": [
       "(16408, 6)"
      ]
     },
     "execution_count": 18,
     "metadata": {},
     "output_type": "execute_result"
    }
   ],
   "source": [
    "dd.shape"
   ]
  },
  {
   "cell_type": "code",
   "execution_count": 19,
   "id": "db3189c7",
   "metadata": {},
   "outputs": [
    {
     "data": {
      "text/html": [
       "<div>\n",
       "<style scoped>\n",
       "    .dataframe tbody tr th:only-of-type {\n",
       "        vertical-align: middle;\n",
       "    }\n",
       "\n",
       "    .dataframe tbody tr th {\n",
       "        vertical-align: top;\n",
       "    }\n",
       "\n",
       "    .dataframe thead th {\n",
       "        text-align: right;\n",
       "    }\n",
       "</style>\n",
       "<table border=\"1\" class=\"dataframe\">\n",
       "  <thead>\n",
       "    <tr style=\"text-align: right;\">\n",
       "      <th></th>\n",
       "      <th>Date</th>\n",
       "      <th>Open</th>\n",
       "      <th>High</th>\n",
       "      <th>Low</th>\n",
       "      <th>Close</th>\n",
       "      <th>Volume</th>\n",
       "    </tr>\n",
       "  </thead>\n",
       "  <tbody>\n",
       "    <tr>\n",
       "      <th>0</th>\n",
       "      <td>2005-01-04 10:30</td>\n",
       "      <td>1260.78</td>\n",
       "      <td>1260.782</td>\n",
       "      <td>1238.187</td>\n",
       "      <td>1249.17</td>\n",
       "      <td>272139000.0</td>\n",
       "    </tr>\n",
       "    <tr>\n",
       "      <th>1</th>\n",
       "      <td>2005-01-04 11:30</td>\n",
       "      <td>1248.82</td>\n",
       "      <td>1250.914</td>\n",
       "      <td>1245.634</td>\n",
       "      <td>1250.28</td>\n",
       "      <td>159626400.0</td>\n",
       "    </tr>\n",
       "    <tr>\n",
       "      <th>2</th>\n",
       "      <td>2005-01-04 14:00</td>\n",
       "      <td>1250.61</td>\n",
       "      <td>1250.611</td>\n",
       "      <td>1238.860</td>\n",
       "      <td>1240.11</td>\n",
       "      <td>223247500.0</td>\n",
       "    </tr>\n",
       "    <tr>\n",
       "      <th>3</th>\n",
       "      <td>2005-01-04 15:00</td>\n",
       "      <td>1240.20</td>\n",
       "      <td>1243.376</td>\n",
       "      <td>1240.204</td>\n",
       "      <td>1242.77</td>\n",
       "      <td>216317000.0</td>\n",
       "    </tr>\n",
       "    <tr>\n",
       "      <th>4</th>\n",
       "      <td>2005-01-05 10:30</td>\n",
       "      <td>1240.61</td>\n",
       "      <td>1247.239</td>\n",
       "      <td>1238.521</td>\n",
       "      <td>1238.80</td>\n",
       "      <td>179890700.0</td>\n",
       "    </tr>\n",
       "  </tbody>\n",
       "</table>\n",
       "</div>"
      ],
      "text/plain": [
       "               Date     Open      High       Low    Close       Volume\n",
       "0  2005-01-04 10:30  1260.78  1260.782  1238.187  1249.17  272139000.0\n",
       "1  2005-01-04 11:30  1248.82  1250.914  1245.634  1250.28  159626400.0\n",
       "2  2005-01-04 14:00  1250.61  1250.611  1238.860  1240.11  223247500.0\n",
       "3  2005-01-04 15:00  1240.20  1243.376  1240.204  1242.77  216317000.0\n",
       "4  2005-01-05 10:30  1240.61  1247.239  1238.521  1238.80  179890700.0"
      ]
     },
     "execution_count": 19,
     "metadata": {},
     "output_type": "execute_result"
    }
   ],
   "source": [
    "dd.head()"
   ]
  },
  {
   "cell_type": "code",
   "execution_count": 20,
   "id": "e68f220a",
   "metadata": {},
   "outputs": [
    {
     "data": {
      "text/html": [
       "<div>\n",
       "<style scoped>\n",
       "    .dataframe tbody tr th:only-of-type {\n",
       "        vertical-align: middle;\n",
       "    }\n",
       "\n",
       "    .dataframe tbody tr th {\n",
       "        vertical-align: top;\n",
       "    }\n",
       "\n",
       "    .dataframe thead th {\n",
       "        text-align: right;\n",
       "    }\n",
       "</style>\n",
       "<table border=\"1\" class=\"dataframe\">\n",
       "  <thead>\n",
       "    <tr style=\"text-align: right;\">\n",
       "      <th></th>\n",
       "      <th>Date</th>\n",
       "      <th>Open</th>\n",
       "      <th>High</th>\n",
       "      <th>Low</th>\n",
       "      <th>Close</th>\n",
       "      <th>Volume</th>\n",
       "    </tr>\n",
       "  </thead>\n",
       "  <tbody>\n",
       "    <tr>\n",
       "      <th>16403</th>\n",
       "      <td>2021-11-18 15:00</td>\n",
       "      <td>3527.81</td>\n",
       "      <td>3528.96</td>\n",
       "      <td>3520.71</td>\n",
       "      <td>3520.71</td>\n",
       "      <td>6.092600e+09</td>\n",
       "    </tr>\n",
       "    <tr>\n",
       "      <th>16404</th>\n",
       "      <td>2021-11-19 10:30</td>\n",
       "      <td>3519.28</td>\n",
       "      <td>3531.19</td>\n",
       "      <td>3517.93</td>\n",
       "      <td>3526.84</td>\n",
       "      <td>1.237435e+10</td>\n",
       "    </tr>\n",
       "    <tr>\n",
       "      <th>16405</th>\n",
       "      <td>2021-11-19 11:30</td>\n",
       "      <td>3526.72</td>\n",
       "      <td>3533.50</td>\n",
       "      <td>3525.51</td>\n",
       "      <td>3532.55</td>\n",
       "      <td>5.452201e+09</td>\n",
       "    </tr>\n",
       "    <tr>\n",
       "      <th>16406</th>\n",
       "      <td>2021-11-19 14:00</td>\n",
       "      <td>3533.03</td>\n",
       "      <td>3560.71</td>\n",
       "      <td>3530.31</td>\n",
       "      <td>3560.27</td>\n",
       "      <td>6.429295e+09</td>\n",
       "    </tr>\n",
       "    <tr>\n",
       "      <th>16407</th>\n",
       "      <td>2021-11-19 15:00</td>\n",
       "      <td>3560.39</td>\n",
       "      <td>3561.79</td>\n",
       "      <td>3555.50</td>\n",
       "      <td>3560.37</td>\n",
       "      <td>7.543155e+09</td>\n",
       "    </tr>\n",
       "  </tbody>\n",
       "</table>\n",
       "</div>"
      ],
      "text/plain": [
       "                   Date     Open     High      Low    Close        Volume\n",
       "16403  2021-11-18 15:00  3527.81  3528.96  3520.71  3520.71  6.092600e+09\n",
       "16404  2021-11-19 10:30  3519.28  3531.19  3517.93  3526.84  1.237435e+10\n",
       "16405  2021-11-19 11:30  3526.72  3533.50  3525.51  3532.55  5.452201e+09\n",
       "16406  2021-11-19 14:00  3533.03  3560.71  3530.31  3560.27  6.429295e+09\n",
       "16407  2021-11-19 15:00  3560.39  3561.79  3555.50  3560.37  7.543155e+09"
      ]
     },
     "execution_count": 20,
     "metadata": {},
     "output_type": "execute_result"
    }
   ],
   "source": [
    "dd.tail()"
   ]
  },
  {
   "cell_type": "code",
   "execution_count": null,
   "id": "ded68b99",
   "metadata": {},
   "outputs": [],
   "source": []
  }
 ],
 "metadata": {
  "kernelspec": {
   "display_name": "Python 3",
   "language": "python",
   "name": "python3"
  },
  "language_info": {
   "codemirror_mode": {
    "name": "ipython",
    "version": 3
   },
   "file_extension": ".py",
   "mimetype": "text/x-python",
   "name": "python",
   "nbconvert_exporter": "python",
   "pygments_lexer": "ipython3",
   "version": "3.8.8"
  }
 },
 "nbformat": 4,
 "nbformat_minor": 5
}
