{
 "cells": [
  {
   "cell_type": "code",
   "execution_count": 29,
   "id": "7ac6e91e",
   "metadata": {},
   "outputs": [],
   "source": [
    "import pandas as pd\n",
    "import numpy as np\n",
    "import mplfinance as mpf\n",
    "import tushare as ts\n",
    "import jqdatasdk as jq"
   ]
  },
  {
   "cell_type": "code",
   "execution_count": 2,
   "id": "a2167009",
   "metadata": {},
   "outputs": [],
   "source": [
    "ts.set_token('73252a830bcd894cad3daeb2b02beb626e6b91be457bdaef34878765')"
   ]
  },
  {
   "cell_type": "code",
   "execution_count": 7,
   "id": "d9faddc2",
   "metadata": {},
   "outputs": [],
   "source": [
    "# df = ts.pro_bar(ts_code='000001.SH',\n",
    "#                     freq='1min', \n",
    "#                     start_date='2008-01-07 09:00:00', \n",
    "#                     end_date='2008-01-08 17:00:00')"
   ]
  },
  {
   "cell_type": "code",
   "execution_count": 8,
   "id": "da0e7360",
   "metadata": {},
   "outputs": [
    {
     "name": "stdout",
     "output_type": "stream",
     "text": [
      "auth success \n"
     ]
    }
   ],
   "source": [
    "jqdatasdk.auth(\"15011559175\", \"Zengrongjun19\")"
   ]
  },
  {
   "cell_type": "code",
   "execution_count": 31,
   "id": "e5f6de7e",
   "metadata": {},
   "outputs": [
    {
     "data": {
      "text/plain": [
       "True"
      ]
     },
     "execution_count": 31,
     "metadata": {},
     "output_type": "execute_result"
    }
   ],
   "source": [
    "jq.is_auth()"
   ]
  },
  {
   "cell_type": "code",
   "execution_count": null,
   "id": "2dc441fb",
   "metadata": {},
   "outputs": [],
   "source": []
  },
  {
   "cell_type": "code",
   "execution_count": 34,
   "id": "95268ee4",
   "metadata": {},
   "outputs": [
    {
     "data": {
      "text/plain": [
       "{'total': 1000000, 'spare': 15470}"
      ]
     },
     "execution_count": 34,
     "metadata": {},
     "output_type": "execute_result"
    }
   ],
   "source": [
    "jq.get_query_count()"
   ]
  },
  {
   "cell_type": "code",
   "execution_count": 14,
   "id": "f9b1d053",
   "metadata": {},
   "outputs": [],
   "source": [
    "from datetime import datetime"
   ]
  },
  {
   "cell_type": "code",
   "execution_count": 23,
   "id": "1c6ad323",
   "metadata": {},
   "outputs": [],
   "source": [
    "end_date = \"2005-10-10 16:00\"\n",
    "end_dt = datetime.strptime(end_date, \"%Y-%m-%d %H:%M\")\n",
    "\n",
    "df = jqdatasdk.get_bars(\"000001.XSHG\", count=10, unit=\"30m\", end_dt=end_dt)"
   ]
  },
  {
   "cell_type": "code",
   "execution_count": 27,
   "id": "22b9012e",
   "metadata": {},
   "outputs": [
    {
     "data": {
      "text/html": [
       "<div>\n",
       "<style scoped>\n",
       "    .dataframe tbody tr th:only-of-type {\n",
       "        vertical-align: middle;\n",
       "    }\n",
       "\n",
       "    .dataframe tbody tr th {\n",
       "        vertical-align: top;\n",
       "    }\n",
       "\n",
       "    .dataframe thead th {\n",
       "        text-align: right;\n",
       "    }\n",
       "</style>\n",
       "<table border=\"1\" class=\"dataframe\">\n",
       "  <thead>\n",
       "    <tr style=\"text-align: right;\">\n",
       "      <th></th>\n",
       "      <th>date</th>\n",
       "      <th>open</th>\n",
       "      <th>high</th>\n",
       "      <th>low</th>\n",
       "      <th>close</th>\n",
       "    </tr>\n",
       "  </thead>\n",
       "  <tbody>\n",
       "    <tr>\n",
       "      <th>0</th>\n",
       "      <td>2005-09-30 14:30</td>\n",
       "      <td>1155.25</td>\n",
       "      <td>1157.324</td>\n",
       "      <td>1154.682</td>\n",
       "      <td>1156.29</td>\n",
       "    </tr>\n",
       "    <tr>\n",
       "      <th>1</th>\n",
       "      <td>2005-09-30 15:00</td>\n",
       "      <td>1156.32</td>\n",
       "      <td>1158.200</td>\n",
       "      <td>1153.712</td>\n",
       "      <td>1155.61</td>\n",
       "    </tr>\n",
       "    <tr>\n",
       "      <th>2</th>\n",
       "      <td>2005-10-10 10:00</td>\n",
       "      <td>1153.04</td>\n",
       "      <td>1153.398</td>\n",
       "      <td>1143.188</td>\n",
       "      <td>1143.20</td>\n",
       "    </tr>\n",
       "    <tr>\n",
       "      <th>3</th>\n",
       "      <td>2005-10-10 10:30</td>\n",
       "      <td>1143.03</td>\n",
       "      <td>1149.638</td>\n",
       "      <td>1142.375</td>\n",
       "      <td>1149.02</td>\n",
       "    </tr>\n",
       "    <tr>\n",
       "      <th>4</th>\n",
       "      <td>2005-10-10 11:00</td>\n",
       "      <td>1148.99</td>\n",
       "      <td>1149.408</td>\n",
       "      <td>1146.177</td>\n",
       "      <td>1146.69</td>\n",
       "    </tr>\n",
       "    <tr>\n",
       "      <th>5</th>\n",
       "      <td>2005-10-10 11:30</td>\n",
       "      <td>1146.69</td>\n",
       "      <td>1147.845</td>\n",
       "      <td>1141.903</td>\n",
       "      <td>1142.53</td>\n",
       "    </tr>\n",
       "    <tr>\n",
       "      <th>6</th>\n",
       "      <td>2005-10-10 13:30</td>\n",
       "      <td>1142.70</td>\n",
       "      <td>1144.303</td>\n",
       "      <td>1140.532</td>\n",
       "      <td>1141.67</td>\n",
       "    </tr>\n",
       "    <tr>\n",
       "      <th>7</th>\n",
       "      <td>2005-10-10 14:00</td>\n",
       "      <td>1141.70</td>\n",
       "      <td>1145.559</td>\n",
       "      <td>1140.695</td>\n",
       "      <td>1145.23</td>\n",
       "    </tr>\n",
       "    <tr>\n",
       "      <th>8</th>\n",
       "      <td>2005-10-10 14:30</td>\n",
       "      <td>1145.69</td>\n",
       "      <td>1145.811</td>\n",
       "      <td>1142.899</td>\n",
       "      <td>1143.62</td>\n",
       "    </tr>\n",
       "    <tr>\n",
       "      <th>9</th>\n",
       "      <td>2005-10-10 15:00</td>\n",
       "      <td>1143.51</td>\n",
       "      <td>1143.754</td>\n",
       "      <td>1137.289</td>\n",
       "      <td>1138.95</td>\n",
       "    </tr>\n",
       "  </tbody>\n",
       "</table>\n",
       "</div>"
      ],
      "text/plain": [
       "               date     open      high       low    close\n",
       "0  2005-09-30 14:30  1155.25  1157.324  1154.682  1156.29\n",
       "1  2005-09-30 15:00  1156.32  1158.200  1153.712  1155.61\n",
       "2  2005-10-10 10:00  1153.04  1153.398  1143.188  1143.20\n",
       "3  2005-10-10 10:30  1143.03  1149.638  1142.375  1149.02\n",
       "4  2005-10-10 11:00  1148.99  1149.408  1146.177  1146.69\n",
       "5  2005-10-10 11:30  1146.69  1147.845  1141.903  1142.53\n",
       "6  2005-10-10 13:30  1142.70  1144.303  1140.532  1141.67\n",
       "7  2005-10-10 14:00  1141.70  1145.559  1140.695  1145.23\n",
       "8  2005-10-10 14:30  1145.69  1145.811  1142.899  1143.62\n",
       "9  2005-10-10 15:00  1143.51  1143.754  1137.289  1138.95"
      ]
     },
     "execution_count": 27,
     "metadata": {},
     "output_type": "execute_result"
    }
   ],
   "source": [
    "df"
   ]
  },
  {
   "cell_type": "code",
   "execution_count": 28,
   "id": "1e9ab0c6",
   "metadata": {},
   "outputs": [
    {
     "data": {
      "text/plain": [
       "date      object\n",
       "open     float64\n",
       "high     float64\n",
       "low      float64\n",
       "close    float64\n",
       "dtype: object"
      ]
     },
     "execution_count": 28,
     "metadata": {},
     "output_type": "execute_result"
    }
   ],
   "source": [
    "df.dtypes"
   ]
  },
  {
   "cell_type": "code",
   "execution_count": 26,
   "id": "3b036be8",
   "metadata": {},
   "outputs": [],
   "source": [
    "df[\"date\"] = df[\"date\"].apply(lambda x: str(x)[:-3])"
   ]
  },
  {
   "cell_type": "code",
   "execution_count": 35,
   "id": "9469adaa",
   "metadata": {},
   "outputs": [],
   "source": [
    "dd = pd.read_csv(\"../data/000001.XSHG_1m_sticks.csv\")"
   ]
  },
  {
   "cell_type": "code",
   "execution_count": 36,
   "id": "0216498e",
   "metadata": {},
   "outputs": [
    {
     "data": {
      "text/plain": [
       "(984480, 6)"
      ]
     },
     "execution_count": 36,
     "metadata": {},
     "output_type": "execute_result"
    }
   ],
   "source": [
    "dd.shape"
   ]
  },
  {
   "cell_type": "code",
   "execution_count": 37,
   "id": "fdce8d97",
   "metadata": {},
   "outputs": [
    {
     "data": {
      "text/html": [
       "<div>\n",
       "<style scoped>\n",
       "    .dataframe tbody tr th:only-of-type {\n",
       "        vertical-align: middle;\n",
       "    }\n",
       "\n",
       "    .dataframe tbody tr th {\n",
       "        vertical-align: top;\n",
       "    }\n",
       "\n",
       "    .dataframe thead th {\n",
       "        text-align: right;\n",
       "    }\n",
       "</style>\n",
       "<table border=\"1\" class=\"dataframe\">\n",
       "  <thead>\n",
       "    <tr style=\"text-align: right;\">\n",
       "      <th></th>\n",
       "      <th>Date</th>\n",
       "      <th>Open</th>\n",
       "      <th>High</th>\n",
       "      <th>Low</th>\n",
       "      <th>Close</th>\n",
       "      <th>Volume</th>\n",
       "    </tr>\n",
       "  </thead>\n",
       "  <tbody>\n",
       "    <tr>\n",
       "      <th>0</th>\n",
       "      <td>2005-01-04 09:31</td>\n",
       "      <td>1260.78</td>\n",
       "      <td>1260.782</td>\n",
       "      <td>1253.899</td>\n",
       "      <td>1254.18</td>\n",
       "      <td>14845900.0</td>\n",
       "    </tr>\n",
       "    <tr>\n",
       "      <th>1</th>\n",
       "      <td>2005-01-04 09:32</td>\n",
       "      <td>1252.97</td>\n",
       "      <td>1252.969</td>\n",
       "      <td>1250.711</td>\n",
       "      <td>1250.71</td>\n",
       "      <td>5069200.0</td>\n",
       "    </tr>\n",
       "    <tr>\n",
       "      <th>2</th>\n",
       "      <td>2005-01-04 09:33</td>\n",
       "      <td>1241.05</td>\n",
       "      <td>1247.469</td>\n",
       "      <td>1239.684</td>\n",
       "      <td>1247.47</td>\n",
       "      <td>7004800.0</td>\n",
       "    </tr>\n",
       "    <tr>\n",
       "      <th>3</th>\n",
       "      <td>2005-01-04 09:34</td>\n",
       "      <td>1240.49</td>\n",
       "      <td>1244.192</td>\n",
       "      <td>1238.758</td>\n",
       "      <td>1239.89</td>\n",
       "      <td>5991700.0</td>\n",
       "    </tr>\n",
       "    <tr>\n",
       "      <th>4</th>\n",
       "      <td>2005-01-04 09:35</td>\n",
       "      <td>1239.86</td>\n",
       "      <td>1239.856</td>\n",
       "      <td>1238.187</td>\n",
       "      <td>1238.97</td>\n",
       "      <td>10743000.0</td>\n",
       "    </tr>\n",
       "  </tbody>\n",
       "</table>\n",
       "</div>"
      ],
      "text/plain": [
       "               Date     Open      High       Low    Close      Volume\n",
       "0  2005-01-04 09:31  1260.78  1260.782  1253.899  1254.18  14845900.0\n",
       "1  2005-01-04 09:32  1252.97  1252.969  1250.711  1250.71   5069200.0\n",
       "2  2005-01-04 09:33  1241.05  1247.469  1239.684  1247.47   7004800.0\n",
       "3  2005-01-04 09:34  1240.49  1244.192  1238.758  1239.89   5991700.0\n",
       "4  2005-01-04 09:35  1239.86  1239.856  1238.187  1238.97  10743000.0"
      ]
     },
     "execution_count": 37,
     "metadata": {},
     "output_type": "execute_result"
    }
   ],
   "source": [
    "dd.head()"
   ]
  },
  {
   "cell_type": "code",
   "execution_count": 38,
   "id": "ba9a4f3f",
   "metadata": {},
   "outputs": [
    {
     "data": {
      "text/html": [
       "<div>\n",
       "<style scoped>\n",
       "    .dataframe tbody tr th:only-of-type {\n",
       "        vertical-align: middle;\n",
       "    }\n",
       "\n",
       "    .dataframe tbody tr th {\n",
       "        vertical-align: top;\n",
       "    }\n",
       "\n",
       "    .dataframe thead th {\n",
       "        text-align: right;\n",
       "    }\n",
       "</style>\n",
       "<table border=\"1\" class=\"dataframe\">\n",
       "  <thead>\n",
       "    <tr style=\"text-align: right;\">\n",
       "      <th></th>\n",
       "      <th>Date</th>\n",
       "      <th>Open</th>\n",
       "      <th>High</th>\n",
       "      <th>Low</th>\n",
       "      <th>Close</th>\n",
       "      <th>Volume</th>\n",
       "    </tr>\n",
       "  </thead>\n",
       "  <tbody>\n",
       "    <tr>\n",
       "      <th>984475</th>\n",
       "      <td>2021-11-19 14:56</td>\n",
       "      <td>3559.41</td>\n",
       "      <td>3559.90</td>\n",
       "      <td>3559.41</td>\n",
       "      <td>3559.62</td>\n",
       "      <td>220881000.0</td>\n",
       "    </tr>\n",
       "    <tr>\n",
       "      <th>984476</th>\n",
       "      <td>2021-11-19 14:57</td>\n",
       "      <td>3559.74</td>\n",
       "      <td>3560.20</td>\n",
       "      <td>3559.63</td>\n",
       "      <td>3560.20</td>\n",
       "      <td>241629100.0</td>\n",
       "    </tr>\n",
       "    <tr>\n",
       "      <th>984477</th>\n",
       "      <td>2021-11-19 14:58</td>\n",
       "      <td>3559.83</td>\n",
       "      <td>3559.99</td>\n",
       "      <td>3559.83</td>\n",
       "      <td>3559.99</td>\n",
       "      <td>13125100.0</td>\n",
       "    </tr>\n",
       "    <tr>\n",
       "      <th>984478</th>\n",
       "      <td>2021-11-19 14:59</td>\n",
       "      <td>3559.99</td>\n",
       "      <td>3559.99</td>\n",
       "      <td>3559.99</td>\n",
       "      <td>3559.99</td>\n",
       "      <td>0.0</td>\n",
       "    </tr>\n",
       "    <tr>\n",
       "      <th>984479</th>\n",
       "      <td>2021-11-19 15:00</td>\n",
       "      <td>3559.99</td>\n",
       "      <td>3560.37</td>\n",
       "      <td>3559.95</td>\n",
       "      <td>3560.37</td>\n",
       "      <td>404876800.0</td>\n",
       "    </tr>\n",
       "  </tbody>\n",
       "</table>\n",
       "</div>"
      ],
      "text/plain": [
       "                    Date     Open     High      Low    Close       Volume\n",
       "984475  2021-11-19 14:56  3559.41  3559.90  3559.41  3559.62  220881000.0\n",
       "984476  2021-11-19 14:57  3559.74  3560.20  3559.63  3560.20  241629100.0\n",
       "984477  2021-11-19 14:58  3559.83  3559.99  3559.83  3559.99   13125100.0\n",
       "984478  2021-11-19 14:59  3559.99  3559.99  3559.99  3559.99          0.0\n",
       "984479  2021-11-19 15:00  3559.99  3560.37  3559.95  3560.37  404876800.0"
      ]
     },
     "execution_count": 38,
     "metadata": {},
     "output_type": "execute_result"
    }
   ],
   "source": [
    "dd.tail()"
   ]
  },
  {
   "cell_type": "code",
   "execution_count": 39,
   "id": "78933087",
   "metadata": {},
   "outputs": [
    {
     "data": {
      "text/plain": [
       "Date       object\n",
       "Open      float64\n",
       "High      float64\n",
       "Low       float64\n",
       "Close     float64\n",
       "Volume    float64\n",
       "dtype: object"
      ]
     },
     "execution_count": 39,
     "metadata": {},
     "output_type": "execute_result"
    }
   ],
   "source": [
    "dd.dtypes"
   ]
  },
  {
   "cell_type": "code",
   "execution_count": 43,
   "id": "50e6288e",
   "metadata": {},
   "outputs": [
    {
     "data": {
      "text/html": [
       "<div>\n",
       "<style scoped>\n",
       "    .dataframe tbody tr th:only-of-type {\n",
       "        vertical-align: middle;\n",
       "    }\n",
       "\n",
       "    .dataframe tbody tr th {\n",
       "        vertical-align: top;\n",
       "    }\n",
       "\n",
       "    .dataframe thead th {\n",
       "        text-align: right;\n",
       "    }\n",
       "</style>\n",
       "<table border=\"1\" class=\"dataframe\">\n",
       "  <thead>\n",
       "    <tr style=\"text-align: right;\">\n",
       "      <th></th>\n",
       "      <th>Date</th>\n",
       "      <th>Open</th>\n",
       "      <th>High</th>\n",
       "      <th>Low</th>\n",
       "      <th>Close</th>\n",
       "      <th>Volume</th>\n",
       "    </tr>\n",
       "  </thead>\n",
       "  <tbody>\n",
       "    <tr>\n",
       "      <th>0</th>\n",
       "      <td>2005-01-04 09:31:00</td>\n",
       "      <td>1260.78</td>\n",
       "      <td>1260.782</td>\n",
       "      <td>1253.899</td>\n",
       "      <td>1254.18</td>\n",
       "      <td>14845900.0</td>\n",
       "    </tr>\n",
       "    <tr>\n",
       "      <th>1</th>\n",
       "      <td>2005-01-04 09:32:00</td>\n",
       "      <td>1252.97</td>\n",
       "      <td>1252.969</td>\n",
       "      <td>1250.711</td>\n",
       "      <td>1250.71</td>\n",
       "      <td>5069200.0</td>\n",
       "    </tr>\n",
       "    <tr>\n",
       "      <th>2</th>\n",
       "      <td>2005-01-04 09:33:00</td>\n",
       "      <td>1241.05</td>\n",
       "      <td>1247.469</td>\n",
       "      <td>1239.684</td>\n",
       "      <td>1247.47</td>\n",
       "      <td>7004800.0</td>\n",
       "    </tr>\n",
       "    <tr>\n",
       "      <th>3</th>\n",
       "      <td>2005-01-04 09:34:00</td>\n",
       "      <td>1240.49</td>\n",
       "      <td>1244.192</td>\n",
       "      <td>1238.758</td>\n",
       "      <td>1239.89</td>\n",
       "      <td>5991700.0</td>\n",
       "    </tr>\n",
       "    <tr>\n",
       "      <th>4</th>\n",
       "      <td>2005-01-04 09:35:00</td>\n",
       "      <td>1239.86</td>\n",
       "      <td>1239.856</td>\n",
       "      <td>1238.187</td>\n",
       "      <td>1238.97</td>\n",
       "      <td>10743000.0</td>\n",
       "    </tr>\n",
       "  </tbody>\n",
       "</table>\n",
       "</div>"
      ],
      "text/plain": [
       "                 Date     Open      High       Low    Close      Volume\n",
       "0 2005-01-04 09:31:00  1260.78  1260.782  1253.899  1254.18  14845900.0\n",
       "1 2005-01-04 09:32:00  1252.97  1252.969  1250.711  1250.71   5069200.0\n",
       "2 2005-01-04 09:33:00  1241.05  1247.469  1239.684  1247.47   7004800.0\n",
       "3 2005-01-04 09:34:00  1240.49  1244.192  1238.758  1239.89   5991700.0\n",
       "4 2005-01-04 09:35:00  1239.86  1239.856  1238.187  1238.97  10743000.0"
      ]
     },
     "execution_count": 43,
     "metadata": {},
     "output_type": "execute_result"
    }
   ],
   "source": [
    "dd.head()"
   ]
  },
  {
   "cell_type": "code",
   "execution_count": 41,
   "id": "15b62acd",
   "metadata": {},
   "outputs": [],
   "source": [
    "dd['Date'] = pd.to_datetime(dd['Date'])"
   ]
  },
  {
   "cell_type": "code",
   "execution_count": 42,
   "id": "966c9cdc",
   "metadata": {},
   "outputs": [
    {
     "data": {
      "text/plain": [
       "Date      datetime64[ns]\n",
       "Open             float64\n",
       "High             float64\n",
       "Low              float64\n",
       "Close            float64\n",
       "Volume           float64\n",
       "dtype: object"
      ]
     },
     "execution_count": 42,
     "metadata": {},
     "output_type": "execute_result"
    }
   ],
   "source": [
    "dd.dtypes"
   ]
  },
  {
   "cell_type": "code",
   "execution_count": 48,
   "id": "e5dfc4fa",
   "metadata": {},
   "outputs": [],
   "source": [
    "save_path = \"../result/000001.XSHG_1m_candlestick.png\"\n",
    "data = pd.read_csv(\"../data/000001.XSHG_1m_sticks.csv\")\n",
    "data = data[data.Date < \"2005-01-05\"]\n",
    "# data = cal_macd(data)"
   ]
  },
  {
   "cell_type": "code",
   "execution_count": 47,
   "id": "ad856f64",
   "metadata": {},
   "outputs": [
    {
     "data": {
      "text/html": [
       "<div>\n",
       "<style scoped>\n",
       "    .dataframe tbody tr th:only-of-type {\n",
       "        vertical-align: middle;\n",
       "    }\n",
       "\n",
       "    .dataframe tbody tr th {\n",
       "        vertical-align: top;\n",
       "    }\n",
       "\n",
       "    .dataframe thead th {\n",
       "        text-align: right;\n",
       "    }\n",
       "</style>\n",
       "<table border=\"1\" class=\"dataframe\">\n",
       "  <thead>\n",
       "    <tr style=\"text-align: right;\">\n",
       "      <th></th>\n",
       "      <th>Date</th>\n",
       "      <th>Open</th>\n",
       "      <th>High</th>\n",
       "      <th>Low</th>\n",
       "      <th>Close</th>\n",
       "      <th>Volume</th>\n",
       "    </tr>\n",
       "  </thead>\n",
       "  <tbody>\n",
       "    <tr>\n",
       "      <th>0</th>\n",
       "      <td>2005-01-04 09:31</td>\n",
       "      <td>1260.78</td>\n",
       "      <td>1260.782</td>\n",
       "      <td>1253.899</td>\n",
       "      <td>1254.18</td>\n",
       "      <td>14845900.0</td>\n",
       "    </tr>\n",
       "    <tr>\n",
       "      <th>1</th>\n",
       "      <td>2005-01-04 09:32</td>\n",
       "      <td>1252.97</td>\n",
       "      <td>1252.969</td>\n",
       "      <td>1250.711</td>\n",
       "      <td>1250.71</td>\n",
       "      <td>5069200.0</td>\n",
       "    </tr>\n",
       "    <tr>\n",
       "      <th>2</th>\n",
       "      <td>2005-01-04 09:33</td>\n",
       "      <td>1241.05</td>\n",
       "      <td>1247.469</td>\n",
       "      <td>1239.684</td>\n",
       "      <td>1247.47</td>\n",
       "      <td>7004800.0</td>\n",
       "    </tr>\n",
       "    <tr>\n",
       "      <th>3</th>\n",
       "      <td>2005-01-04 09:34</td>\n",
       "      <td>1240.49</td>\n",
       "      <td>1244.192</td>\n",
       "      <td>1238.758</td>\n",
       "      <td>1239.89</td>\n",
       "      <td>5991700.0</td>\n",
       "    </tr>\n",
       "    <tr>\n",
       "      <th>4</th>\n",
       "      <td>2005-01-04 09:35</td>\n",
       "      <td>1239.86</td>\n",
       "      <td>1239.856</td>\n",
       "      <td>1238.187</td>\n",
       "      <td>1238.97</td>\n",
       "      <td>10743000.0</td>\n",
       "    </tr>\n",
       "  </tbody>\n",
       "</table>\n",
       "</div>"
      ],
      "text/plain": [
       "               Date     Open      High       Low    Close      Volume\n",
       "0  2005-01-04 09:31  1260.78  1260.782  1253.899  1254.18  14845900.0\n",
       "1  2005-01-04 09:32  1252.97  1252.969  1250.711  1250.71   5069200.0\n",
       "2  2005-01-04 09:33  1241.05  1247.469  1239.684  1247.47   7004800.0\n",
       "3  2005-01-04 09:34  1240.49  1244.192  1238.758  1239.89   5991700.0\n",
       "4  2005-01-04 09:35  1239.86  1239.856  1238.187  1238.97  10743000.0"
      ]
     },
     "execution_count": 47,
     "metadata": {},
     "output_type": "execute_result"
    }
   ],
   "source": [
    "data.head()"
   ]
  },
  {
   "cell_type": "code",
   "execution_count": 49,
   "id": "fb15f606",
   "metadata": {},
   "outputs": [
    {
     "data": {
      "text/plain": [
       "(240, 6)"
      ]
     },
     "execution_count": 49,
     "metadata": {},
     "output_type": "execute_result"
    }
   ],
   "source": [
    "data.shape"
   ]
  },
  {
   "cell_type": "code",
   "execution_count": null,
   "id": "568e2bf7",
   "metadata": {},
   "outputs": [],
   "source": []
  }
 ],
 "metadata": {
  "kernelspec": {
   "display_name": "Python 3",
   "language": "python",
   "name": "python3"
  },
  "language_info": {
   "codemirror_mode": {
    "name": "ipython",
    "version": 3
   },
   "file_extension": ".py",
   "mimetype": "text/x-python",
   "name": "python",
   "nbconvert_exporter": "python",
   "pygments_lexer": "ipython3",
   "version": "3.8.8"
  }
 },
 "nbformat": 4,
 "nbformat_minor": 5
}
