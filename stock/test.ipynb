{
 "cells": [
  {
   "cell_type": "code",
   "execution_count": 1,
   "id": "7ac6e91e",
   "metadata": {},
   "outputs": [],
   "source": [
    "import pandas as pd\n",
    "import numpy as np\n",
    "import mplfinance as mpf\n",
    "import tushare as ts\n",
    "import jqdatasdk"
   ]
  },
  {
   "cell_type": "code",
   "execution_count": 2,
   "id": "a2167009",
   "metadata": {},
   "outputs": [],
   "source": [
    "ts.set_token('73252a830bcd894cad3daeb2b02beb626e6b91be457bdaef34878765')"
   ]
  },
  {
   "cell_type": "code",
   "execution_count": 7,
   "id": "d9faddc2",
   "metadata": {},
   "outputs": [],
   "source": [
    "# df = ts.pro_bar(ts_code='000001.SH',\n",
    "#                     freq='1min', \n",
    "#                     start_date='2008-01-07 09:00:00', \n",
    "#                     end_date='2008-01-08 17:00:00')"
   ]
  },
  {
   "cell_type": "code",
   "execution_count": 8,
   "id": "71a2772e",
   "metadata": {},
   "outputs": [
    {
     "name": "stdout",
     "output_type": "stream",
     "text": [
      "auth success \n"
     ]
    }
   ],
   "source": [
    "jqdatasdk.auth(\"15011559175\", \"Zengrongjun19\")"
   ]
  },
  {
   "cell_type": "code",
   "execution_count": 9,
   "id": "8c4c6e22",
   "metadata": {},
   "outputs": [
    {
     "data": {
      "text/plain": [
       "{'total': 1000000, 'spare': 1000000}"
      ]
     },
     "execution_count": 9,
     "metadata": {},
     "output_type": "execute_result"
    }
   ],
   "source": [
    "jqdatasdk.get_query_count()"
   ]
  },
  {
   "cell_type": "code",
   "execution_count": null,
   "id": "49c87c5d",
   "metadata": {},
   "outputs": [],
   "source": []
  },
  {
   "cell_type": "code",
   "execution_count": null,
   "id": "ac5a804a",
   "metadata": {},
   "outputs": [],
   "source": []
  },
  {
   "cell_type": "code",
   "execution_count": null,
   "id": "c199bd14",
   "metadata": {},
   "outputs": [],
   "source": []
  }
 ],
 "metadata": {
  "kernelspec": {
   "display_name": "Python 3",
   "language": "python",
   "name": "python3"
  },
  "language_info": {
   "codemirror_mode": {
    "name": "ipython",
    "version": 3
   },
   "file_extension": ".py",
   "mimetype": "text/x-python",
   "name": "python",
   "nbconvert_exporter": "python",
   "pygments_lexer": "ipython3",
   "version": "3.8.8"
  }
 },
 "nbformat": 4,
 "nbformat_minor": 5
}
